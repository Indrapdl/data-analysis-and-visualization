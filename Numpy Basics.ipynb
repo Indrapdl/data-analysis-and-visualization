{
 "cells": [
  {
   "cell_type": "code",
   "execution_count": 1,
   "id": "6a7dcb7a-a00e-4d56-b2e1-6f2ebd178852",
   "metadata": {},
   "outputs": [
    {
     "name": "stdout",
     "output_type": "stream",
     "text": [
      "Requirement already satisfied: numpy in c:\\users\\acer\\anaconda3\\lib\\site-packages (1.26.4)\n"
     ]
    }
   ],
   "source": [
    "# Installing numpy library\n",
    "!pip install numpy"
   ]
  },
  {
   "cell_type": "code",
   "execution_count": 1,
   "id": "eaf9c98c-de3b-429f-8397-37e7ef94caa5",
   "metadata": {},
   "outputs": [],
   "source": [
    "# Importing numpy library\n",
    "import numpy as np"
   ]
  },
  {
   "cell_type": "markdown",
   "id": "0d36d24f-ef80-4d9a-8d8b-3c602e4aca23",
   "metadata": {},
   "source": [
    "## Creating N-d array"
   ]
  },
  {
   "cell_type": "markdown",
   "id": "f7d65a2c-829d-4574-ad2e-becae3e32312",
   "metadata": {},
   "source": [
    "![Array Dimension](img.png)"
   ]
  },
  {
   "cell_type": "code",
   "execution_count": 2,
   "id": "83e0d075-8421-42a7-8d95-17047aa91da5",
   "metadata": {},
   "outputs": [
    {
     "data": {
      "text/plain": [
       "array([1, 2, 3, 4])"
      ]
     },
     "execution_count": 2,
     "metadata": {},
     "output_type": "execute_result"
    }
   ],
   "source": [
    "arr1 = np.array([1,2,3,4]) \n",
    "arr1"
   ]
  },
  {
   "cell_type": "code",
   "execution_count": 3,
   "id": "3e5a15d2-1dfc-4088-a605-9be885cd3e7a",
   "metadata": {},
   "outputs": [
    {
     "data": {
      "text/plain": [
       "array([[ 1,  2,  3,  4],\n",
       "       [ 5,  6,  7,  8],\n",
       "       [ 9, 10, 11, 12]])"
      ]
     },
     "execution_count": 3,
     "metadata": {},
     "output_type": "execute_result"
    }
   ],
   "source": [
    "arr2 = np.array([[1,2,3,4],[5,6,7,8],[9,10,11,12]])\n",
    "arr2"
   ]
  },
  {
   "cell_type": "code",
   "execution_count": 4,
   "id": "a3a671e8-757d-430b-8eb3-858d0b83e373",
   "metadata": {},
   "outputs": [
    {
     "data": {
      "text/plain": [
       "array([[[1, 2, 3],\n",
       "        [4, 5, 6]],\n",
       "\n",
       "       [[7, 8, 9],\n",
       "        [1, 3, 9]]])"
      ]
     },
     "execution_count": 4,
     "metadata": {},
     "output_type": "execute_result"
    }
   ],
   "source": [
    "arr3 = np.array([[[1,2,3],[4,5,6]],[[7,8,9],[1,3,9]]])\n",
    "arr3"
   ]
  },
  {
   "cell_type": "code",
   "execution_count": 5,
   "id": "16aebb7a-e8ae-4b12-ba38-a5e6d283bd52",
   "metadata": {},
   "outputs": [
    {
     "data": {
      "text/plain": [
       "array([ 1.,  2.,  3.,  4.,  5.,  6.,  7.,  8.,  9., 10.])"
      ]
     },
     "execution_count": 5,
     "metadata": {},
     "output_type": "execute_result"
    }
   ],
   "source": [
    "#Creating numpy array using linspace function\n",
    "arr4 = np.linspace(1,10,10)\n",
    "arr4"
   ]
  },
  {
   "cell_type": "code",
   "execution_count": 6,
   "id": "77948fdc-81b8-4200-9c7d-33557e551f72",
   "metadata": {},
   "outputs": [
    {
     "data": {
      "text/plain": [
       "array([10, 11, 12, 13, 14])"
      ]
     },
     "execution_count": 6,
     "metadata": {},
     "output_type": "execute_result"
    }
   ],
   "source": [
    "#Creating numpy array using arange() function\n",
    "arr5 = np.arange(10,15)\n",
    "arr5"
   ]
  },
  {
   "cell_type": "code",
   "execution_count": 7,
   "id": "c358d13c-cdbe-467e-b83c-cba92481d24e",
   "metadata": {},
   "outputs": [
    {
     "data": {
      "text/plain": [
       "array([10, 12, 14, 16, 18])"
      ]
     },
     "execution_count": 7,
     "metadata": {},
     "output_type": "execute_result"
    }
   ],
   "source": [
    "arr6 = np.arange(10,20,2) #with interval of 2 \n",
    "arr6"
   ]
  },
  {
   "cell_type": "code",
   "execution_count": 8,
   "id": "266cb1db-9f11-4e4f-aaa1-94a08e09943e",
   "metadata": {},
   "outputs": [
    {
     "data": {
      "text/plain": [
       "array([10, 12, 14, 16, 18])"
      ]
     },
     "execution_count": 8,
     "metadata": {},
     "output_type": "execute_result"
    }
   ],
   "source": [
    "#Creating new array from existing array using copy()\n",
    "arr7 = np.copy(arr6)\n",
    "arr7"
   ]
  },
  {
   "cell_type": "code",
   "execution_count": 9,
   "id": "b27d60d8-0b93-446b-add6-d62f74186e72",
   "metadata": {},
   "outputs": [
    {
     "data": {
      "text/plain": [
       "array([[0., 0., 0.],\n",
       "       [0., 0., 0.],\n",
       "       [0., 0., 0.]])"
      ]
     },
     "execution_count": 9,
     "metadata": {},
     "output_type": "execute_result"
    }
   ],
   "source": [
    "# Initializing array with zeros\n",
    "arr8 = np.zeros((3,3))\n",
    "arr8"
   ]
  },
  {
   "cell_type": "code",
   "execution_count": 10,
   "id": "e3af81b1-fd0d-442a-bf5b-119b7487bdc1",
   "metadata": {},
   "outputs": [
    {
     "data": {
      "text/plain": [
       "array([[1., 1.],\n",
       "       [1., 1.]])"
      ]
     },
     "execution_count": 10,
     "metadata": {},
     "output_type": "execute_result"
    }
   ],
   "source": [
    "# Initializing array with ones\n",
    "arr9 = np.ones((2,2))\n",
    "arr9"
   ]
  },
  {
   "cell_type": "code",
   "execution_count": 11,
   "id": "a72a3c20-7422-4393-8fe7-e89af40d74f1",
   "metadata": {},
   "outputs": [
    {
     "data": {
      "text/plain": [
       "array([[1., 0., 0.],\n",
       "       [0., 1., 0.],\n",
       "       [0., 0., 1.]])"
      ]
     },
     "execution_count": 11,
     "metadata": {},
     "output_type": "execute_result"
    }
   ],
   "source": [
    "# Initializing identity array \n",
    "arr10 = np.identity(3)\n",
    "arr10"
   ]
  },
  {
   "cell_type": "code",
   "execution_count": 12,
   "id": "5170160f-60bd-4d09-a511-61d60e62c527",
   "metadata": {},
   "outputs": [
    {
     "data": {
      "text/plain": [
       "array([1.+0.j, 2.+0.j, 3.+0.j])"
      ]
     },
     "execution_count": 12,
     "metadata": {},
     "output_type": "execute_result"
    }
   ],
   "source": [
    "# Creating numpy array of comples numbers\n",
    "arr11 = np.array([1, 2, 3], dtype=complex)\n",
    "arr11"
   ]
  },
  {
   "cell_type": "code",
   "execution_count": 13,
   "id": "13b0111f-4628-4292-a9f3-b25b1d0022df",
   "metadata": {},
   "outputs": [
    {
     "data": {
      "text/plain": [
       "array([1.+2.j, 3.+4.j, 5.+6.j])"
      ]
     },
     "execution_count": 13,
     "metadata": {},
     "output_type": "execute_result"
    }
   ],
   "source": [
    "arr12 = np.array([1+2j, 3+4j, 5+6j])\n",
    "arr12"
   ]
  },
  {
   "cell_type": "markdown",
   "id": "b9890c2a-f138-41d8-ab1a-3c518d4d0f4c",
   "metadata": {},
   "source": [
    "## Some important attributes of numpy array"
   ]
  },
  {
   "cell_type": "code",
   "execution_count": 14,
   "id": "dc11b5fc-9158-4899-a556-d4a6ebc7b310",
   "metadata": {},
   "outputs": [
    {
     "data": {
      "text/plain": [
       "(4,)"
      ]
     },
     "execution_count": 14,
     "metadata": {},
     "output_type": "execute_result"
    }
   ],
   "source": [
    "# 1) Findaing shape of N-d array\n",
    "arr1.shape"
   ]
  },
  {
   "cell_type": "code",
   "execution_count": 15,
   "id": "2c13819f-b4ff-46fb-94e1-8c9db1743297",
   "metadata": {},
   "outputs": [
    {
     "data": {
      "text/plain": [
       "(3, 4)"
      ]
     },
     "execution_count": 15,
     "metadata": {},
     "output_type": "execute_result"
    }
   ],
   "source": [
    "arr2.shape"
   ]
  },
  {
   "cell_type": "code",
   "execution_count": 16,
   "id": "d5894016-497d-4500-a26b-6be2a9b9e4a8",
   "metadata": {},
   "outputs": [
    {
     "data": {
      "text/plain": [
       "(2, 2, 3)"
      ]
     },
     "execution_count": 16,
     "metadata": {},
     "output_type": "execute_result"
    }
   ],
   "source": [
    "arr3.shape"
   ]
  },
  {
   "cell_type": "code",
   "execution_count": 17,
   "id": "363608d5-8754-4f22-838d-decd89b83982",
   "metadata": {},
   "outputs": [
    {
     "data": {
      "text/plain": [
       "1"
      ]
     },
     "execution_count": 17,
     "metadata": {},
     "output_type": "execute_result"
    }
   ],
   "source": [
    "# 2) Getting dimension of array\n",
    "arr1.ndim"
   ]
  },
  {
   "cell_type": "code",
   "execution_count": 18,
   "id": "7d96da73-dd4e-4403-8694-a62ab8532098",
   "metadata": {},
   "outputs": [
    {
     "data": {
      "text/plain": [
       "2"
      ]
     },
     "execution_count": 18,
     "metadata": {},
     "output_type": "execute_result"
    }
   ],
   "source": [
    "arr2.ndim"
   ]
  },
  {
   "cell_type": "code",
   "execution_count": 19,
   "id": "9e515435-bbd8-4616-8020-ee9b5f02b2f3",
   "metadata": {},
   "outputs": [
    {
     "data": {
      "text/plain": [
       "3"
      ]
     },
     "execution_count": 19,
     "metadata": {},
     "output_type": "execute_result"
    }
   ],
   "source": [
    "arr3.ndim"
   ]
  },
  {
   "cell_type": "code",
   "execution_count": 20,
   "id": "152e58e2-5fa5-49bb-bbde-7c2e99648809",
   "metadata": {},
   "outputs": [
    {
     "data": {
      "text/plain": [
       "4"
      ]
     },
     "execution_count": 20,
     "metadata": {},
     "output_type": "execute_result"
    }
   ],
   "source": [
    "# 3) Size attribute to get total no of elements of array\n",
    "arr1.size"
   ]
  },
  {
   "cell_type": "code",
   "execution_count": 21,
   "id": "62ddbacc-9b95-4f68-852a-5df7861cd9fe",
   "metadata": {},
   "outputs": [
    {
     "data": {
      "text/plain": [
       "12"
      ]
     },
     "execution_count": 21,
     "metadata": {},
     "output_type": "execute_result"
    }
   ],
   "source": [
    "arr2.size"
   ]
  },
  {
   "cell_type": "code",
   "execution_count": 22,
   "id": "d89bf2ff-f157-4307-b265-4ffc7eda89bb",
   "metadata": {},
   "outputs": [
    {
     "data": {
      "text/plain": [
       "4"
      ]
     },
     "execution_count": 22,
     "metadata": {},
     "output_type": "execute_result"
    }
   ],
   "source": [
    "# 4) itemsize attribute to determine the size(space occupied) by each elements- data type dependent\n",
    "arr1.itemsize"
   ]
  },
  {
   "cell_type": "code",
   "execution_count": 23,
   "id": "eae52c5d-493f-4690-84f4-123577591291",
   "metadata": {},
   "outputs": [
    {
     "data": {
      "text/plain": [
       "8"
      ]
     },
     "execution_count": 23,
     "metadata": {},
     "output_type": "execute_result"
    }
   ],
   "source": [
    "arr4.itemsize"
   ]
  },
  {
   "cell_type": "code",
   "execution_count": 24,
   "id": "f1486164-c4bb-4b9f-9e0b-db81ee68135a",
   "metadata": {},
   "outputs": [
    {
     "data": {
      "text/plain": [
       "80"
      ]
     },
     "execution_count": 24,
     "metadata": {},
     "output_type": "execute_result"
    }
   ],
   "source": [
    "# 5) nbytes attribute to  Get the total no of bytes used by numpy array\n",
    "arr4.nbytes"
   ]
  },
  {
   "cell_type": "code",
   "execution_count": 25,
   "id": "1f0290b7-929d-41da-ac2e-ee14a6c128bd",
   "metadata": {},
   "outputs": [
    {
     "data": {
      "text/plain": [
       "dtype('int32')"
      ]
     },
     "execution_count": 25,
     "metadata": {},
     "output_type": "execute_result"
    }
   ],
   "source": [
    "# 6) dtype attribute- to find data type of array element\n",
    "arr1.dtype"
   ]
  },
  {
   "cell_type": "code",
   "execution_count": 26,
   "id": "1dec382a-c77f-4039-885a-e8622ae20d2c",
   "metadata": {},
   "outputs": [
    {
     "data": {
      "text/plain": [
       "dtype('float64')"
      ]
     },
     "execution_count": 26,
     "metadata": {},
     "output_type": "execute_result"
    }
   ],
   "source": [
    "arr4.dtype"
   ]
  },
  {
   "cell_type": "code",
   "execution_count": 27,
   "id": "51c25c70-5dac-4e86-83e7-c048f8779a96",
   "metadata": {},
   "outputs": [
    {
     "data": {
      "text/plain": [
       "array([[[1, 7],\n",
       "        [4, 1]],\n",
       "\n",
       "       [[2, 8],\n",
       "        [5, 3]],\n",
       "\n",
       "       [[3, 9],\n",
       "        [6, 9]]])"
      ]
     },
     "execution_count": 27,
     "metadata": {},
     "output_type": "execute_result"
    }
   ],
   "source": [
    "# 7) Get  transpose of the array (swaps rows and columns)\n",
    "arr3.T\n"
   ]
  },
  {
   "cell_type": "code",
   "execution_count": 28,
   "id": "cf72a7fe-228a-4e4c-a4dd-b23d147414cf",
   "metadata": {},
   "outputs": [
    {
     "data": {
      "text/plain": [
       "array([1, 2, 3, 4])"
      ]
     },
     "execution_count": 28,
     "metadata": {},
     "output_type": "execute_result"
    }
   ],
   "source": [
    "# Note that there is no effect of transpose attribute on 1d array\n",
    "arr1.T"
   ]
  },
  {
   "cell_type": "code",
   "execution_count": 29,
   "id": "1b289a39-3cb4-4be2-8e46-a69b51c90057",
   "metadata": {},
   "outputs": [
    {
     "data": {
      "text/plain": [
       "<memory at 0x000001D4C4DBD3C0>"
      ]
     },
     "execution_count": 29,
     "metadata": {},
     "output_type": "execute_result"
    }
   ],
   "source": [
    "# 8) data attribute to return the buffer containing the actual elements of the array\n",
    "arr1.data"
   ]
  },
  {
   "cell_type": "code",
   "execution_count": 30,
   "id": "51c99008-e0af-423d-aa36-f18557722467",
   "metadata": {},
   "outputs": [
    {
     "data": {
      "text/plain": [
       "<memory at 0x000001D4C4F7C790>"
      ]
     },
     "execution_count": 30,
     "metadata": {},
     "output_type": "execute_result"
    }
   ],
   "source": [
    "arr2.data"
   ]
  },
  {
   "cell_type": "code",
   "execution_count": 31,
   "id": "a9b47233-5843-4782-9ba1-0ef32beaa52e",
   "metadata": {},
   "outputs": [
    {
     "data": {
      "text/plain": [
       "  C_CONTIGUOUS : True\n",
       "  F_CONTIGUOUS : True\n",
       "  OWNDATA : True\n",
       "  WRITEABLE : True\n",
       "  ALIGNED : True\n",
       "  WRITEBACKIFCOPY : False"
      ]
     },
     "execution_count": 31,
     "metadata": {},
     "output_type": "execute_result"
    }
   ],
   "source": [
    "# 9) flags attribute to return  information about the memory layout of the array\n",
    "arr1.flags"
   ]
  },
  {
   "cell_type": "code",
   "execution_count": 32,
   "id": "fe238e52-0678-433a-a96d-a8c1ed11bfe5",
   "metadata": {},
   "outputs": [
    {
     "data": {
      "text/plain": [
       "array([1., 2., 3.])"
      ]
     },
     "execution_count": 32,
     "metadata": {},
     "output_type": "execute_result"
    }
   ],
   "source": [
    "# 10) real attribute - returns the real part of the array (useful for complex numbers)\n",
    "arr11.real"
   ]
  },
  {
   "cell_type": "code",
   "execution_count": 33,
   "id": "75108105-c3a8-41ec-a8d4-f7f583f40163",
   "metadata": {},
   "outputs": [
    {
     "data": {
      "text/plain": [
       "array([0., 0., 0.])"
      ]
     },
     "execution_count": 33,
     "metadata": {},
     "output_type": "execute_result"
    }
   ],
   "source": [
    "# 11) imag attribute - returns the imaginary part of the array (useful for complex numbers)\n",
    "arr11.imag"
   ]
  },
  {
   "cell_type": "code",
   "execution_count": null,
   "id": "50e65877-92cf-4976-be55-2e0b043472b5",
   "metadata": {},
   "outputs": [],
   "source": []
  },
  {
   "cell_type": "markdown",
   "id": "fb27b598-93d1-4ca6-a26d-665a41f8140f",
   "metadata": {},
   "source": [
    "## Basic operations and functions on numpy array"
   ]
  },
  {
   "cell_type": "code",
   "execution_count": 34,
   "id": "232e8a8b-7385-4dbb-b48e-2718e050c3f6",
   "metadata": {},
   "outputs": [
    {
     "data": {
      "text/plain": [
       "array([[ 0,  1,  2],\n",
       "       [ 3,  4,  5],\n",
       "       [ 6,  7,  8],\n",
       "       [ 9, 10, 11]])"
      ]
     },
     "execution_count": 34,
     "metadata": {},
     "output_type": "execute_result"
    }
   ],
   "source": [
    "# 1) reshape(shape)-Returns a new array with the same data but a new shape.\n",
    "arr = np.arange(12).reshape(4,3)\n",
    "arr"
   ]
  },
  {
   "cell_type": "code",
   "execution_count": 35,
   "id": "3fed65c2-104f-4984-89b5-740f25b40e16",
   "metadata": {},
   "outputs": [
    {
     "data": {
      "text/plain": [
       "array([[1, 2, 3, 4],\n",
       "       [5, 6, 7, 8],\n",
       "       [9, 1, 3, 9]])"
      ]
     },
     "execution_count": 35,
     "metadata": {},
     "output_type": "execute_result"
    }
   ],
   "source": [
    "arr3.reshape(3,4)"
   ]
  },
  {
   "cell_type": "code",
   "execution_count": 36,
   "id": "1fb6d3f6-07b3-4c20-a2a1-c76a69ede93d",
   "metadata": {},
   "outputs": [
    {
     "data": {
      "text/plain": [
       "array([[ 3,  5,  8,  9],\n",
       "       [ 2,  7,  9, 11]])"
      ]
     },
     "execution_count": 36,
     "metadata": {},
     "output_type": "execute_result"
    }
   ],
   "source": [
    "# 2) sort()-sorts element of numpy array\n",
    "arr = np.array([[9,5,8,3],[7,2,11,9]])\n",
    "np.sort(arr)"
   ]
  },
  {
   "cell_type": "code",
   "execution_count": 43,
   "id": "10c80558-7ac4-45d2-8ebe-408fbcf25008",
   "metadata": {},
   "outputs": [
    {
     "name": "stdout",
     "output_type": "stream",
     "text": [
      "[[0 1 2]\n",
      " [3 4 5]\n",
      " [6 7 8]]\n"
     ]
    },
    {
     "data": {
      "text/plain": [
       "8"
      ]
     },
     "execution_count": 43,
     "metadata": {},
     "output_type": "execute_result"
    }
   ],
   "source": [
    "# 3) max()- Find maximum value of an array\n",
    "narr = np.arange(9).reshape(3,3)\n",
    "print(narr)\n",
    "narr.max()"
   ]
  },
  {
   "cell_type": "code",
   "execution_count": 48,
   "id": "d9684e22-7adf-4dac-aa0f-716c16d1051f",
   "metadata": {},
   "outputs": [
    {
     "data": {
      "text/plain": [
       "array([6, 7, 8])"
      ]
     },
     "execution_count": 48,
     "metadata": {},
     "output_type": "execute_result"
    }
   ],
   "source": [
    "# 4) Find maximum value of each column\n",
    "narr.max(axis = 0)"
   ]
  },
  {
   "cell_type": "code",
   "execution_count": 49,
   "id": "8d721457-8b8a-4ffc-9d22-3864c4921a1d",
   "metadata": {},
   "outputs": [
    {
     "data": {
      "text/plain": [
       "array([2, 5, 8])"
      ]
     },
     "execution_count": 49,
     "metadata": {},
     "output_type": "execute_result"
    }
   ],
   "source": [
    "# 5) Find maximum value of each row\n",
    "narr.max(axis = 1)"
   ]
  },
  {
   "cell_type": "code",
   "execution_count": 50,
   "id": "bac87e95-390c-4238-acdd-6239a5795017",
   "metadata": {},
   "outputs": [
    {
     "data": {
      "text/plain": [
       "0"
      ]
     },
     "execution_count": 50,
     "metadata": {},
     "output_type": "execute_result"
    }
   ],
   "source": [
    "# 6) min()- Find minimum value of an  array\n",
    "narr.min()"
   ]
  },
  {
   "cell_type": "code",
   "execution_count": 52,
   "id": "acb77fe6-f2d7-491b-badb-ca66c2da86bd",
   "metadata": {},
   "outputs": [
    {
     "data": {
      "text/plain": [
       "array([0, 3, 6])"
      ]
     },
     "execution_count": 52,
     "metadata": {},
     "output_type": "execute_result"
    }
   ],
   "source": [
    "# 7) Find minimum value of each column\n",
    "narr.min(axis = 1)"
   ]
  },
  {
   "cell_type": "code",
   "execution_count": 53,
   "id": "89d44643-61a0-4e74-9d9c-57d268baec7e",
   "metadata": {},
   "outputs": [
    {
     "data": {
      "text/plain": [
       "array([0, 1, 2])"
      ]
     },
     "execution_count": 53,
     "metadata": {},
     "output_type": "execute_result"
    }
   ],
   "source": [
    "# 8) Find minimum value of each column\n",
    "narr.min(axis = 0)"
   ]
  },
  {
   "cell_type": "code",
   "execution_count": 55,
   "id": "bc99d6a3-2296-464b-ae4e-3d305104afc3",
   "metadata": {},
   "outputs": [
    {
     "data": {
      "text/plain": [
       "36"
      ]
     },
     "execution_count": 55,
     "metadata": {},
     "output_type": "execute_result"
    }
   ],
   "source": [
    "# 9) Find sum of all array elements\n",
    "narr.sum()"
   ]
  },
  {
   "cell_type": "code",
   "execution_count": 56,
   "id": "f15562db-839d-40cc-bae7-428ed4812d6a",
   "metadata": {},
   "outputs": [
    {
     "data": {
      "text/plain": [
       "array([ 9, 12, 15])"
      ]
     },
     "execution_count": 56,
     "metadata": {},
     "output_type": "execute_result"
    }
   ],
   "source": [
    "# 10) Find sum of each column\n",
    "narr.sum(axis = 0)"
   ]
  },
  {
   "cell_type": "code",
   "execution_count": 57,
   "id": "f6a7518a-8b79-4357-a58e-8f9d44e193c0",
   "metadata": {},
   "outputs": [
    {
     "data": {
      "text/plain": [
       "array([ 3, 12, 21])"
      ]
     },
     "execution_count": 57,
     "metadata": {},
     "output_type": "execute_result"
    }
   ],
   "source": [
    "# 11) Find sum of each row\n",
    "narr.sum(axis = 1)"
   ]
  },
  {
   "cell_type": "code",
   "execution_count": 58,
   "id": "3befb6cc-ff72-46e1-8aed-07613de5e73b",
   "metadata": {},
   "outputs": [
    {
     "data": {
      "text/plain": [
       "4.0"
      ]
     },
     "execution_count": 58,
     "metadata": {},
     "output_type": "execute_result"
    }
   ],
   "source": [
    "# 12) mean() - Find mean of array elements\n",
    "narr.mean()"
   ]
  },
  {
   "cell_type": "code",
   "execution_count": 62,
   "id": "5fda463f-b3d1-4401-97b6-e122a868c029",
   "metadata": {},
   "outputs": [
    {
     "data": {
      "text/plain": [
       "2.581988897471611"
      ]
     },
     "execution_count": 62,
     "metadata": {},
     "output_type": "execute_result"
    }
   ],
   "source": [
    "# 13) std()- Find standard deviation of array elements \n",
    "narr.std()"
   ]
  },
  {
   "cell_type": "code",
   "execution_count": 63,
   "id": "9aecb6c9-dacf-485c-8485-2d67a39647a3",
   "metadata": {},
   "outputs": [],
   "source": [
    "#Similarly row wise and column wise mean and standard deviation can be find "
   ]
  },
  {
   "cell_type": "code",
   "execution_count": 65,
   "id": "08de3c3e-2ebe-4f64-8b1e-276971265d8a",
   "metadata": {},
   "outputs": [
    {
     "data": {
      "text/plain": [
       "8"
      ]
     },
     "execution_count": 65,
     "metadata": {},
     "output_type": "execute_result"
    }
   ],
   "source": [
    "# 14) argmin()/argmax() - Returns the index of maximum and minimum array elements \n",
    "narr.argmax(axis=None)"
   ]
  },
  {
   "cell_type": "code",
   "execution_count": 70,
   "id": "0279a27e-a241-4ae2-b699-63f2039baae0",
   "metadata": {},
   "outputs": [
    {
     "data": {
      "text/plain": [
       "array([ 0,  1,  3,  6, 10, 15, 21, 28, 36])"
      ]
     },
     "execution_count": 70,
     "metadata": {},
     "output_type": "execute_result"
    }
   ],
   "source": [
    "# 15) cumsum() - Returns cumulative sum\n",
    "narr.cumsum(axis=None)"
   ]
  },
  {
   "cell_type": "code",
   "execution_count": 73,
   "id": "28eae9dc-44da-42e6-baa1-a6f76f5e8a92",
   "metadata": {},
   "outputs": [
    {
     "data": {
      "text/plain": [
       "0"
      ]
     },
     "execution_count": 73,
     "metadata": {},
     "output_type": "execute_result"
    }
   ],
   "source": [
    "# 16) prod() - Returns product of array elements \n",
    "narr.prod(axis = None)"
   ]
  },
  {
   "cell_type": "code",
   "execution_count": 74,
   "id": "2894937a-55e0-44b7-9f9b-39db7312d57a",
   "metadata": {},
   "outputs": [
    {
     "data": {
      "text/plain": [
       "array([0, 0, 0, 0, 0, 0, 0, 0, 0])"
      ]
     },
     "execution_count": 74,
     "metadata": {},
     "output_type": "execute_result"
    }
   ],
   "source": [
    "# 17) cumprod() - Returns cumulative product\n",
    "narr.cumprod(axis = None)"
   ]
  },
  {
   "cell_type": "code",
   "execution_count": 83,
   "id": "9dc01ae6-e2ec-4424-b73a-af82fa51bd92",
   "metadata": {},
   "outputs": [
    {
     "data": {
      "text/plain": [
       "dtype('float64')"
      ]
     },
     "execution_count": 83,
     "metadata": {},
     "output_type": "execute_result"
    }
   ],
   "source": [
    "# 18) astype(dtype)- Casts the array to a specified type.\n",
    "n = narr.astype('float64')\n",
    "n.dtype"
   ]
  },
  {
   "cell_type": "code",
   "execution_count": 84,
   "id": "2beac106-031e-4b57-89e3-f6f6c6c12317",
   "metadata": {},
   "outputs": [
    {
     "data": {
      "text/plain": [
       "array([1.23, 2.35, 3.46])"
      ]
     },
     "execution_count": 84,
     "metadata": {},
     "output_type": "execute_result"
    }
   ],
   "source": [
    "# 19) round(decimals=0) - Rounds the array to the given number of decimals.\n",
    "arr = np.array([1.2345,2.3456,3.4567])\n",
    "arr.round(decimals = 2)"
   ]
  },
  {
   "cell_type": "code",
   "execution_count": 86,
   "id": "7a111414-e7d4-404c-b7f4-db83e8f9325f",
   "metadata": {},
   "outputs": [
    {
     "data": {
      "text/plain": [
       "array([[0.  , 1.  , 2.  ],\n",
       "       [3.45, 4.  , 5.  ],\n",
       "       [6.  , 7.  , 8.  ]])"
      ]
     },
     "execution_count": 86,
     "metadata": {},
     "output_type": "execute_result"
    }
   ],
   "source": [
    "# 20) put(indices, values) - Replaces specified elements of an array with given values.\n",
    "n.put(3,3.45)\n",
    "n"
   ]
  },
  {
   "cell_type": "code",
   "execution_count": 89,
   "id": "411cac54-a994-45a7-b615-5feb7aa11b32",
   "metadata": {},
   "outputs": [
    {
     "data": {
      "text/plain": [
       "array([2., 5., 8.])"
      ]
     },
     "execution_count": 89,
     "metadata": {},
     "output_type": "execute_result"
    }
   ],
   "source": [
    "# 21) take(indices, axis=None) - Returns elements from the array based on given indices along an axis.\n",
    "n.take(2,1)"
   ]
  },
  {
   "cell_type": "code",
   "execution_count": 94,
   "id": "fe93a839-7b99-48f7-ba5f-0cede58d9fe7",
   "metadata": {},
   "outputs": [
    {
     "data": {
      "text/plain": [
       "array([[3., 3., 3.],\n",
       "       [3., 3., 3.],\n",
       "       [3., 3., 3.]])"
      ]
     },
     "execution_count": 94,
     "metadata": {},
     "output_type": "execute_result"
    }
   ],
   "source": [
    "# 22) fill(value) - Fills the array with a scalar value\n",
    "n.fill(3)\n",
    "n"
   ]
  },
  {
   "cell_type": "markdown",
   "id": "f1262c2c-b196-40ec-a1bb-31c494b38861",
   "metadata": {},
   "source": [
    "## Arithmetic operations on numpy arrays "
   ]
  },
  {
   "cell_type": "code",
   "execution_count": 97,
   "id": "4831069c-9434-4919-bca4-3f245447b1b4",
   "metadata": {},
   "outputs": [
    {
     "data": {
      "text/plain": [
       "array([[0, 1],\n",
       "       [2, 3]])"
      ]
     },
     "execution_count": 97,
     "metadata": {},
     "output_type": "execute_result"
    }
   ],
   "source": [
    "arr1 = np.arange(4).reshape(2,2)\n",
    "arr1"
   ]
  },
  {
   "cell_type": "code",
   "execution_count": 96,
   "id": "c7405075-456e-47ca-8ef1-51820704014e",
   "metadata": {},
   "outputs": [
    {
     "data": {
      "text/plain": [
       "array([[4, 5],\n",
       "       [6, 7]])"
      ]
     },
     "execution_count": 96,
     "metadata": {},
     "output_type": "execute_result"
    }
   ],
   "source": [
    "arr2 = np.arange(4,8).reshape(2,2)\n",
    "arr2"
   ]
  },
  {
   "cell_type": "code",
   "execution_count": 102,
   "id": "4b0f12f8-8644-4aae-a5ce-bcbb48a334e3",
   "metadata": {},
   "outputs": [
    {
     "data": {
      "text/plain": [
       "array([[0, 2],\n",
       "       [4, 6]])"
      ]
     },
     "execution_count": 102,
     "metadata": {},
     "output_type": "execute_result"
    }
   ],
   "source": [
    "# 1) Scalar multiplication/addition/subtraction/division\n",
    "arr1*2"
   ]
  },
  {
   "cell_type": "code",
   "execution_count": 103,
   "id": "e1158a77-47d7-46bf-ba94-7dad1e6e25d6",
   "metadata": {},
   "outputs": [
    {
     "data": {
      "text/plain": [
       "array([[ 4,  6],\n",
       "       [ 8, 10]])"
      ]
     },
     "execution_count": 103,
     "metadata": {},
     "output_type": "execute_result"
    }
   ],
   "source": [
    "# 2) Addition: np.add(array1, array2) or array1 + array2\n",
    "np.add(arr1,arr2)"
   ]
  },
  {
   "cell_type": "code",
   "execution_count": 104,
   "id": "5b6b247d-c459-4da1-8048-a3d66e84bd21",
   "metadata": {},
   "outputs": [
    {
     "data": {
      "text/plain": [
       "array([[-4, -4],\n",
       "       [-4, -4]])"
      ]
     },
     "execution_count": 104,
     "metadata": {},
     "output_type": "execute_result"
    }
   ],
   "source": [
    "# 3) Subtraction: np.subtract(array1, array2) or array1 - array2\n",
    "np.subtract(arr1,arr2)"
   ]
  },
  {
   "cell_type": "code",
   "execution_count": 105,
   "id": "70445ea3-94ee-4cc1-a576-ce179f7ad9a6",
   "metadata": {},
   "outputs": [
    {
     "data": {
      "text/plain": [
       "array([[ 0,  5],\n",
       "       [12, 21]])"
      ]
     },
     "execution_count": 105,
     "metadata": {},
     "output_type": "execute_result"
    }
   ],
   "source": [
    "# 4) Multiplication: np.multiply(array1, array2) or array1 * array2\n",
    "np.multiply(arr1,arr2)"
   ]
  },
  {
   "cell_type": "code",
   "execution_count": 106,
   "id": "e96a2ac2-e370-4e5c-b765-f5770520c9ba",
   "metadata": {},
   "outputs": [
    {
     "data": {
      "text/plain": [
       "array([[0.        , 0.2       ],\n",
       "       [0.33333333, 0.42857143]])"
      ]
     },
     "execution_count": 106,
     "metadata": {},
     "output_type": "execute_result"
    }
   ],
   "source": [
    "# 5) Division: np.divide(array1, array2) or array1 / array2\n",
    "np.divide(arr1,arr2)"
   ]
  },
  {
   "cell_type": "code",
   "execution_count": 109,
   "id": "fb76df58-fcd4-4960-b411-3f0cfef8ae16",
   "metadata": {},
   "outputs": [
    {
     "data": {
      "text/plain": [
       "array([[0, 0],\n",
       "       [0, 0]])"
      ]
     },
     "execution_count": 109,
     "metadata": {},
     "output_type": "execute_result"
    }
   ],
   "source": [
    "# 6) Floor Division: np.floor_divide(array1, array2) or array1 // array2\n",
    "np.floor_divide(arr1,arr2)"
   ]
  },
  {
   "cell_type": "code",
   "execution_count": 110,
   "id": "438e9de8-7888-4f63-a982-5aeed9fe7e83",
   "metadata": {},
   "outputs": [
    {
     "data": {
      "text/plain": [
       "array([[   0,    1],\n",
       "       [  64, 2187]])"
      ]
     },
     "execution_count": 110,
     "metadata": {},
     "output_type": "execute_result"
    }
   ],
   "source": [
    "# 7) Exponentiation: np.power(array1, array2) or array1 ** array2\n",
    "np.power(arr1,arr2)"
   ]
  },
  {
   "cell_type": "code",
   "execution_count": 111,
   "id": "95ef9f8c-2f43-46b5-8ed0-b0a76d6bf641",
   "metadata": {},
   "outputs": [
    {
     "data": {
      "text/plain": [
       "array([[0, 1],\n",
       "       [2, 3]])"
      ]
     },
     "execution_count": 111,
     "metadata": {},
     "output_type": "execute_result"
    }
   ],
   "source": [
    "# 8) Modulus (Remainder): np.mod(array1, array2) or array1 % array2\n",
    "np.mod(arr1,arr2)"
   ]
  },
  {
   "cell_type": "code",
   "execution_count": 112,
   "id": "096a22ab-912e-4add-90e8-497603a1b4ae",
   "metadata": {},
   "outputs": [
    {
     "data": {
      "text/plain": [
       "array([[ 0, -1],\n",
       "       [-2, -3]])"
      ]
     },
     "execution_count": 112,
     "metadata": {},
     "output_type": "execute_result"
    }
   ],
   "source": [
    "# 9) Negation: -array1\n",
    "-arr1"
   ]
  },
  {
   "cell_type": "code",
   "execution_count": null,
   "id": "331b97c0-7c3a-4690-b96e-16cc51efc438",
   "metadata": {},
   "outputs": [],
   "source": []
  },
  {
   "cell_type": "markdown",
   "id": "c41532dd-3200-42fc-969f-0208bef95808",
   "metadata": {},
   "source": [
    "## Comparison Operations "
   ]
  },
  {
   "cell_type": "code",
   "execution_count": 114,
   "id": "5fead135-3d6a-4cde-b595-c4df9f0f3fe5",
   "metadata": {},
   "outputs": [
    {
     "data": {
      "text/plain": [
       "array([[False, False],\n",
       "       [False, False]])"
      ]
     },
     "execution_count": 114,
     "metadata": {},
     "output_type": "execute_result"
    }
   ],
   "source": [
    "# 1)Greater Than: np.greater(array1, array2) or array1 > array2\n",
    "np.greater(arr1,arr2)\n"
   ]
  },
  {
   "cell_type": "code",
   "execution_count": 115,
   "id": "cfcc9d69-0138-481d-8a07-d2f6cf98f564",
   "metadata": {},
   "outputs": [
    {
     "data": {
      "text/plain": [
       "array([[ True,  True],\n",
       "       [ True,  True]])"
      ]
     },
     "execution_count": 115,
     "metadata": {},
     "output_type": "execute_result"
    }
   ],
   "source": [
    "# 2) Less Than: np.less(array1, array2) or array1 < array2\n",
    "np.less(arr1,arr2)"
   ]
  },
  {
   "cell_type": "code",
   "execution_count": 116,
   "id": "6cbdf9ad-cc3b-4aa3-9a71-d038faffdb44",
   "metadata": {},
   "outputs": [
    {
     "data": {
      "text/plain": [
       "array([[False, False],\n",
       "       [False, False]])"
      ]
     },
     "execution_count": 116,
     "metadata": {},
     "output_type": "execute_result"
    }
   ],
   "source": [
    "# 3) Greater Than or Equal To: np.greater_equal(array1, array2) or array1 >= array2\n",
    "np.greater_equal(arr1,arr2)"
   ]
  },
  {
   "cell_type": "code",
   "execution_count": 117,
   "id": "5403f8c5-25b5-4b2e-bfe4-50af14bd562b",
   "metadata": {},
   "outputs": [
    {
     "data": {
      "text/plain": [
       "array([[ True,  True],\n",
       "       [ True,  True]])"
      ]
     },
     "execution_count": 117,
     "metadata": {},
     "output_type": "execute_result"
    }
   ],
   "source": [
    "# 4) Less Than or Equal To: np.less_equal(array1, array2) or array1 <= array2\n",
    "np.less_equal(arr1,arr2)"
   ]
  },
  {
   "cell_type": "code",
   "execution_count": 118,
   "id": "8c465683-a829-4410-8729-f97075840aa5",
   "metadata": {},
   "outputs": [
    {
     "data": {
      "text/plain": [
       "array([[False, False],\n",
       "       [False, False]])"
      ]
     },
     "execution_count": 118,
     "metadata": {},
     "output_type": "execute_result"
    }
   ],
   "source": [
    "# 5) Equal: np.equal(array1, array2) or array1 == array2\n",
    "np.equal(arr1,arr2)"
   ]
  },
  {
   "cell_type": "code",
   "execution_count": null,
   "id": "7aedef8d-d6b3-4880-a9dd-0a339f2cd295",
   "metadata": {},
   "outputs": [],
   "source": []
  },
  {
   "cell_type": "markdown",
   "id": "0d88986f-ef9a-47ab-9d71-7a45360931c8",
   "metadata": {},
   "source": [
    "## Trigonometric Operations"
   ]
  },
  {
   "cell_type": "code",
   "execution_count": 120,
   "id": "c979c106-d4e9-4383-b9a2-ea46fe351827",
   "metadata": {},
   "outputs": [
    {
     "data": {
      "text/plain": [
       "array([[0, 1, 2],\n",
       "       [3, 4, 5],\n",
       "       [6, 7, 8]])"
      ]
     },
     "execution_count": 120,
     "metadata": {},
     "output_type": "execute_result"
    }
   ],
   "source": [
    "arr = np.arange(9).reshape(3,3)\n",
    "arr"
   ]
  },
  {
   "cell_type": "code",
   "execution_count": 127,
   "id": "a216e03f-4989-4e8d-acbf-7cb27b1c82b1",
   "metadata": {},
   "outputs": [
    {
     "data": {
      "text/plain": [
       "array([[ 0.        ,  0.84147098,  0.90929743],\n",
       "       [ 0.14112001, -0.7568025 , -0.95892427],\n",
       "       [-0.2794155 ,  0.6569866 ,  0.98935825]])"
      ]
     },
     "execution_count": 127,
     "metadata": {},
     "output_type": "execute_result"
    }
   ],
   "source": [
    "# 1) Sine: np.sin(array)\n",
    "new = np.sin(arr)\n",
    "new"
   ]
  },
  {
   "cell_type": "code",
   "execution_count": 122,
   "id": "faa41816-e731-4f1f-b76b-994ebdfc51fe",
   "metadata": {},
   "outputs": [
    {
     "data": {
      "text/plain": [
       "array([[ 1.        ,  0.54030231, -0.41614684],\n",
       "       [-0.9899925 , -0.65364362,  0.28366219],\n",
       "       [ 0.96017029,  0.75390225, -0.14550003]])"
      ]
     },
     "execution_count": 122,
     "metadata": {},
     "output_type": "execute_result"
    }
   ],
   "source": [
    "# 2) Cosine: np.cos(array)\n",
    "np.cos(arr)"
   ]
  },
  {
   "cell_type": "code",
   "execution_count": 125,
   "id": "8975f06a-a01e-4d82-82c4-442c73c845f4",
   "metadata": {},
   "outputs": [
    {
     "data": {
      "text/plain": [
       "array([[ 0.        ,  1.55740772, -2.18503986],\n",
       "       [-0.14254654,  1.15782128, -3.38051501],\n",
       "       [-0.29100619,  0.87144798, -6.79971146]])"
      ]
     },
     "execution_count": 125,
     "metadata": {},
     "output_type": "execute_result"
    }
   ],
   "source": [
    "# 3) Tangent: np.tan(array)\n",
    "np.tan(arr)"
   ]
  },
  {
   "cell_type": "code",
   "execution_count": 128,
   "id": "86d69aad-a748-4cc3-88b7-0aa3e07a4319",
   "metadata": {},
   "outputs": [
    {
     "data": {
      "text/plain": [
       "array([[ 0.        ,  1.        ,  1.14159265],\n",
       "       [ 0.14159265, -0.85840735, -1.28318531],\n",
       "       [-0.28318531,  0.71681469,  1.42477796]])"
      ]
     },
     "execution_count": 128,
     "metadata": {},
     "output_type": "execute_result"
    }
   ],
   "source": [
    "# 4) Inverse Sine: np.arcsin(array)\n",
    "np.arcsin(new)"
   ]
  },
  {
   "cell_type": "code",
   "execution_count": 129,
   "id": "b164849c-e4b5-4125-90d9-3974cdb0753a",
   "metadata": {},
   "outputs": [
    {
     "data": {
      "text/plain": [
       "array([[1.57079633, 0.57079633, 0.42920367],\n",
       "       [1.42920367, 2.42920367, 2.85398163],\n",
       "       [1.85398163, 0.85398163, 0.14601837]])"
      ]
     },
     "execution_count": 129,
     "metadata": {},
     "output_type": "execute_result"
    }
   ],
   "source": [
    "# 5) Inverse Cosine: np.arccos(array)\n",
    "np.arccos(new)"
   ]
  },
  {
   "cell_type": "code",
   "execution_count": 130,
   "id": "7e533eee-f5f0-4ba7-a85c-ee8ec2566d52",
   "metadata": {},
   "outputs": [
    {
     "data": {
      "text/plain": [
       "array([[ 0.        ,  0.69952164,  0.73792812],\n",
       "       [ 0.14019425, -0.64784051, -0.76443272],\n",
       "       [-0.27246661,  0.58127104,  0.78004887]])"
      ]
     },
     "execution_count": 130,
     "metadata": {},
     "output_type": "execute_result"
    }
   ],
   "source": [
    "# 6) Inverse Tangent: np.arctan(array)\n",
    "np.arctan(new)"
   ]
  },
  {
   "cell_type": "code",
   "execution_count": 133,
   "id": "bc0dc1e5-7b28-4351-b77c-91fdb73191e0",
   "metadata": {},
   "outputs": [
    {
     "data": {
      "text/plain": [
       "array([[0.00000000e+00, 1.17520119e+00, 3.62686041e+00],\n",
       "       [1.00178749e+01, 2.72899172e+01, 7.42032106e+01],\n",
       "       [2.01713157e+02, 5.48316123e+02, 1.49047883e+03]])"
      ]
     },
     "execution_count": 133,
     "metadata": {},
     "output_type": "execute_result"
    }
   ],
   "source": [
    "# 7) Hyperbolic Sine: np.sinh(array)\n",
    "np.sinh(arr)"
   ]
  },
  {
   "cell_type": "code",
   "execution_count": 134,
   "id": "5f08daf6-88c9-45d8-955e-52abd47d9f93",
   "metadata": {},
   "outputs": [
    {
     "data": {
      "text/plain": [
       "array([[1.00000000e+00, 1.54308063e+00, 3.76219569e+00],\n",
       "       [1.00676620e+01, 2.73082328e+01, 7.42099485e+01],\n",
       "       [2.01715636e+02, 5.48317035e+02, 1.49047916e+03]])"
      ]
     },
     "execution_count": 134,
     "metadata": {},
     "output_type": "execute_result"
    }
   ],
   "source": [
    "# 8) Hyperbolic Cosine: np.cosh(array)\n",
    "np.cosh(arr)"
   ]
  },
  {
   "cell_type": "code",
   "execution_count": 135,
   "id": "03d1c6e2-b207-4331-8770-684a7efe4da9",
   "metadata": {},
   "outputs": [
    {
     "data": {
      "text/plain": [
       "array([[0.        , 0.76159416, 0.96402758],\n",
       "       [0.99505475, 0.9993293 , 0.9999092 ],\n",
       "       [0.99998771, 0.99999834, 0.99999977]])"
      ]
     },
     "execution_count": 135,
     "metadata": {},
     "output_type": "execute_result"
    }
   ],
   "source": [
    "# 9) Hyperbolic Tangent: np.tanh(array)\n",
    "np.tanh(arr)"
   ]
  },
  {
   "cell_type": "code",
   "execution_count": null,
   "id": "a1d76524-2193-4ad5-9f30-8df1655872db",
   "metadata": {},
   "outputs": [],
   "source": []
  },
  {
   "cell_type": "markdown",
   "id": "4bad4302-9146-4ece-b181-5fa59de74721",
   "metadata": {},
   "source": [
    "## Exponential and Logarithmic Operations"
   ]
  },
  {
   "cell_type": "code",
   "execution_count": 139,
   "id": "58702b38-3e53-424a-a2ed-85872d5258c9",
   "metadata": {},
   "outputs": [
    {
     "data": {
      "text/plain": [
       "array([[1.00000000e+00, 2.71828183e+00, 7.38905610e+00],\n",
       "       [2.00855369e+01, 5.45981500e+01, 1.48413159e+02],\n",
       "       [4.03428793e+02, 1.09663316e+03, 2.98095799e+03]])"
      ]
     },
     "execution_count": 139,
     "metadata": {},
     "output_type": "execute_result"
    }
   ],
   "source": [
    "# 1) Exponential: np.exp(array) (calculates e^x for each element)\n",
    "arr = np.arange(9).reshape(3,3)\n",
    "np.exp(arr)"
   ]
  },
  {
   "cell_type": "code",
   "execution_count": 141,
   "id": "2fc64cb1-7603-47c3-851b-ca5fda458a35",
   "metadata": {},
   "outputs": [
    {
     "data": {
      "text/plain": [
       "array([[0.        , 1.        , 1.41421356],\n",
       "       [1.73205081, 2.        , 2.23606798],\n",
       "       [2.44948974, 2.64575131, 2.82842712]])"
      ]
     },
     "execution_count": 141,
     "metadata": {},
     "output_type": "execute_result"
    }
   ],
   "source": [
    "# 2) Square Root: np.sqrt(array)\n",
    "np.sqrt(arr)"
   ]
  },
  {
   "cell_type": "code",
   "execution_count": 144,
   "id": "2e3b1723-4a9d-4c3b-a403-a417f7b9b082",
   "metadata": {},
   "outputs": [
    {
     "name": "stderr",
     "output_type": "stream",
     "text": [
      "C:\\Users\\Acer\\AppData\\Local\\Temp\\ipykernel_11384\\3138397986.py:2: RuntimeWarning: divide by zero encountered in log\n",
      "  np.log(arr)\n"
     ]
    },
    {
     "data": {
      "text/plain": [
       "array([[      -inf, 0.        , 0.69314718],\n",
       "       [1.09861229, 1.38629436, 1.60943791],\n",
       "       [1.79175947, 1.94591015, 2.07944154]])"
      ]
     },
     "execution_count": 144,
     "metadata": {},
     "output_type": "execute_result"
    }
   ],
   "source": [
    "# 3) Natural Logarithm: np.log(array)\n",
    "np.log(arr)"
   ]
  },
  {
   "cell_type": "code",
   "execution_count": 145,
   "id": "39788252-4287-425d-a98c-e7959cf734e1",
   "metadata": {},
   "outputs": [
    {
     "name": "stderr",
     "output_type": "stream",
     "text": [
      "C:\\Users\\Acer\\AppData\\Local\\Temp\\ipykernel_11384\\1820185845.py:2: RuntimeWarning: divide by zero encountered in log10\n",
      "  np.log10(arr)\n"
     ]
    },
    {
     "data": {
      "text/plain": [
       "array([[      -inf, 0.        , 0.30103   ],\n",
       "       [0.47712125, 0.60205999, 0.69897   ],\n",
       "       [0.77815125, 0.84509804, 0.90308999]])"
      ]
     },
     "execution_count": 145,
     "metadata": {},
     "output_type": "execute_result"
    }
   ],
   "source": [
    "# 4) Logarithm base 10: np.log10(array)\n",
    "np.log10(arr)"
   ]
  },
  {
   "cell_type": "code",
   "execution_count": 146,
   "id": "167636ab-0de1-4a5a-86ac-3a14fdd273da",
   "metadata": {},
   "outputs": [
    {
     "name": "stderr",
     "output_type": "stream",
     "text": [
      "C:\\Users\\Acer\\AppData\\Local\\Temp\\ipykernel_11384\\2315767513.py:2: RuntimeWarning: divide by zero encountered in log2\n",
      "  np.log2(arr)\n"
     ]
    },
    {
     "data": {
      "text/plain": [
       "array([[      -inf, 0.        , 1.        ],\n",
       "       [1.5849625 , 2.        , 2.32192809],\n",
       "       [2.5849625 , 2.80735492, 3.        ]])"
      ]
     },
     "execution_count": 146,
     "metadata": {},
     "output_type": "execute_result"
    }
   ],
   "source": [
    "# 5) Logarithm base 2: np.log2(array)\n",
    "np.log2(arr)"
   ]
  },
  {
   "cell_type": "code",
   "execution_count": null,
   "id": "694b03fd-4d12-450d-b9ce-b86395ceb155",
   "metadata": {},
   "outputs": [],
   "source": []
  },
  {
   "cell_type": "markdown",
   "id": "1f268812-fbc2-4f74-ad43-6246fbace730",
   "metadata": {},
   "source": [
    "## Element-wise Operations"
   ]
  },
  {
   "cell_type": "code",
   "execution_count": 152,
   "id": "9539cb71-1f16-434a-9806-cb0aa1074681",
   "metadata": {},
   "outputs": [
    {
     "data": {
      "text/plain": [
       "array([2, 0, 4, 4, 5])"
      ]
     },
     "execution_count": 152,
     "metadata": {},
     "output_type": "execute_result"
    }
   ],
   "source": [
    "# 1) Absolute Value: np.abs(array)\n",
    "arr = np.array([-2,0,4,-4,5])\n",
    "np.abs(arr)"
   ]
  },
  {
   "cell_type": "code",
   "execution_count": 153,
   "id": "6c483aff-907e-4da0-b895-4fafa0358d0f",
   "metadata": {},
   "outputs": [
    {
     "data": {
      "text/plain": [
       "array([ 4,  0, 16, 16, 25])"
      ]
     },
     "execution_count": 153,
     "metadata": {},
     "output_type": "execute_result"
    }
   ],
   "source": [
    "# 2) Square: np.square(array)\n",
    "np.square(arr)"
   ]
  },
  {
   "cell_type": "code",
   "execution_count": 154,
   "id": "3ebabc20-e4dd-458e-bb74-0769448ae3d8",
   "metadata": {},
   "outputs": [
    {
     "data": {
      "text/plain": [
       "array([-1,  0,  1, -1,  1])"
      ]
     },
     "execution_count": 154,
     "metadata": {},
     "output_type": "execute_result"
    }
   ],
   "source": [
    "# 3) Sign: np.sign(array) (returns 1 for positive, -1 for negative, and 0 for zero values)\n",
    "np.sign(arr)"
   ]
  },
  {
   "cell_type": "code",
   "execution_count": 155,
   "id": "1fbadfd6-39d4-49e1-b24e-846b110c7bce",
   "metadata": {},
   "outputs": [
    {
     "data": {
      "text/plain": [
       "array([0, 0, 2, 0, 2])"
      ]
     },
     "execution_count": 155,
     "metadata": {},
     "output_type": "execute_result"
    }
   ],
   "source": [
    "# 4) Clip: np.clip(array, min_value, max_value) (limits the values in the array)\n",
    "np.clip(arr,0,2)"
   ]
  },
  {
   "cell_type": "code",
   "execution_count": null,
   "id": "1b2b8506-d80a-4886-a07f-eb2a712c2c5b",
   "metadata": {},
   "outputs": [],
   "source": []
  },
  {
   "cell_type": "markdown",
   "id": "337c2fce-bde5-4ba4-b8ff-28fbbb784ad4",
   "metadata": {},
   "source": [
    "## Linear Algebra Operations"
   ]
  },
  {
   "cell_type": "code",
   "execution_count": 163,
   "id": "4712e944-efea-4491-9331-4149ca5ca39c",
   "metadata": {},
   "outputs": [
    {
     "name": "stdout",
     "output_type": "stream",
     "text": [
      "[[0 1]\n",
      " [2 3]]\n",
      "[[4 5]\n",
      " [6 7]]\n"
     ]
    },
    {
     "data": {
      "text/plain": [
       "array([[ 6,  7],\n",
       "       [26, 31]])"
      ]
     },
     "execution_count": 163,
     "metadata": {},
     "output_type": "execute_result"
    }
   ],
   "source": [
    "# 1) Dot Product: np.dot(array1, array2)\n",
    "arr1 = np.arange(4).reshape(2,2)\n",
    "print(arr1)\n",
    "arr2 = np.arange(4,8).reshape(2,2)\n",
    "print(arr2)\n",
    "\n",
    "np.dot(arr1,arr2)"
   ]
  },
  {
   "cell_type": "code",
   "execution_count": 164,
   "id": "af2528c4-931b-4996-a9f3-55c82319b88d",
   "metadata": {},
   "outputs": [
    {
     "data": {
      "text/plain": [
       "array([[ 6,  7],\n",
       "       [26, 31]])"
      ]
     },
     "execution_count": 164,
     "metadata": {},
     "output_type": "execute_result"
    }
   ],
   "source": [
    "# 2) Matrix Multiplication: np.matmul(array1, array2)\n",
    "np.matmul(arr1,arr2)"
   ]
  },
  {
   "cell_type": "code",
   "execution_count": 165,
   "id": "97d74368-33c5-4df0-9ca1-bd62c8faf4c0",
   "metadata": {},
   "outputs": [
    {
     "data": {
      "text/plain": [
       "array([[0, 2],\n",
       "       [1, 3]])"
      ]
     },
     "execution_count": 165,
     "metadata": {},
     "output_type": "execute_result"
    }
   ],
   "source": [
    "# 3) Matrix Transpose: array.T\n",
    "arr1.T"
   ]
  },
  {
   "cell_type": "code",
   "execution_count": 166,
   "id": "44170275-810f-4ee2-8d12-765e0c8a20ef",
   "metadata": {},
   "outputs": [
    {
     "data": {
      "text/plain": [
       "array([[-1.5,  0.5],\n",
       "       [ 1. ,  0. ]])"
      ]
     },
     "execution_count": 166,
     "metadata": {},
     "output_type": "execute_result"
    }
   ],
   "source": [
    "# 4) Inverse: np.linalg.inv(array)\n",
    "np.linalg.inv(arr1)"
   ]
  },
  {
   "cell_type": "code",
   "execution_count": 169,
   "id": "36d12755-a47b-40e3-b86f-0ebf32b6341e",
   "metadata": {},
   "outputs": [
    {
     "data": {
      "text/plain": [
       "-2.0"
      ]
     },
     "execution_count": 169,
     "metadata": {},
     "output_type": "execute_result"
    }
   ],
   "source": [
    "# 5) Determinant: np.linalg.det(array)\n",
    "np.linalg.det(arr1)"
   ]
  },
  {
   "cell_type": "code",
   "execution_count": 170,
   "id": "87a5ea8b-d859-46f4-8289-22c7b5bbaafb",
   "metadata": {},
   "outputs": [
    {
     "data": {
      "text/plain": [
       "EigResult(eigenvalues=array([-0.56155281,  3.56155281]), eigenvectors=array([[-0.87192821, -0.27032301],\n",
       "       [ 0.48963374, -0.96276969]]))"
      ]
     },
     "execution_count": 170,
     "metadata": {},
     "output_type": "execute_result"
    }
   ],
   "source": [
    "# 6) Eigenvalues and Eigenvectors: np.linalg.eig(array)\n",
    "np.linalg.eig(arr1)"
   ]
  },
  {
   "cell_type": "code",
   "execution_count": null,
   "id": "d0dc22f0-5ef4-4373-b488-3b0834e04837",
   "metadata": {},
   "outputs": [],
   "source": []
  },
  {
   "cell_type": "markdown",
   "id": "350a29c2-b0bf-46c8-908c-a3874ef2ecc2",
   "metadata": {},
   "source": [
    "## Indexing,slicing and iteration"
   ]
  },
  {
   "cell_type": "code",
   "execution_count": 172,
   "id": "b1275c3d-37d8-414a-9685-71075a659783",
   "metadata": {},
   "outputs": [
    {
     "data": {
      "text/plain": [
       "array([[ 0,  1,  2,  3],\n",
       "       [ 4,  5,  6,  7],\n",
       "       [ 8,  9, 10, 11],\n",
       "       [12, 13, 14, 15],\n",
       "       [16, 17, 18, 19],\n",
       "       [20, 21, 22, 23]])"
      ]
     },
     "execution_count": 172,
     "metadata": {},
     "output_type": "execute_result"
    }
   ],
   "source": [
    "arr = np.arange(24).reshape(6,4)\n",
    "arr"
   ]
  },
  {
   "cell_type": "code",
   "execution_count": 173,
   "id": "2e1ae3cb-5634-44a9-99c6-315c29a46d75",
   "metadata": {},
   "outputs": [
    {
     "data": {
      "text/plain": [
       "2"
      ]
     },
     "execution_count": 173,
     "metadata": {},
     "output_type": "execute_result"
    }
   ],
   "source": [
    "# 1) Indexing for individual elements- array[row_index][col_index]\n",
    "arr[0][2]"
   ]
  },
  {
   "cell_type": "code",
   "execution_count": 185,
   "id": "e416f616-9866-42d8-b8bf-3c7aab4df1fa",
   "metadata": {},
   "outputs": [
    {
     "data": {
      "text/plain": [
       "7"
      ]
     },
     "execution_count": 185,
     "metadata": {},
     "output_type": "execute_result"
    }
   ],
   "source": [
    "# 1.1) Indexing for individual elements - array[row_index,col_index]\n",
    "arr[1,3]"
   ]
  },
  {
   "cell_type": "code",
   "execution_count": 174,
   "id": "691f06a6-c447-4afb-8035-0c052bc5a2af",
   "metadata": {},
   "outputs": [
    {
     "data": {
      "text/plain": [
       "array([ 8,  9, 10, 11])"
      ]
     },
     "execution_count": 174,
     "metadata": {},
     "output_type": "execute_result"
    }
   ],
   "source": [
    "# 2) slicing a single row - array[row_index]\n",
    "arr[2]"
   ]
  },
  {
   "cell_type": "code",
   "execution_count": 175,
   "id": "481de250-2361-4ce4-a668-8d59f51018dd",
   "metadata": {},
   "outputs": [
    {
     "data": {
      "text/plain": [
       "array([[ 4,  5,  6,  7],\n",
       "       [ 8,  9, 10, 11]])"
      ]
     },
     "execution_count": 175,
     "metadata": {},
     "output_type": "execute_result"
    }
   ],
   "source": [
    "# 3) Slicing multiple continuous row - array[start_index:end_index(excluding)]\n",
    "arr[1:3]"
   ]
  },
  {
   "cell_type": "code",
   "execution_count": 176,
   "id": "e2853a1a-ad35-4cbc-a3ed-8ee2ec963354",
   "metadata": {},
   "outputs": [
    {
     "data": {
      "text/plain": [
       "array([ 0,  4,  8, 12, 16, 20])"
      ]
     },
     "execution_count": 176,
     "metadata": {},
     "output_type": "execute_result"
    }
   ],
   "source": [
    "# 4) slicing a single column - array[:,col_index]\n",
    "arr[:,0]"
   ]
  },
  {
   "cell_type": "code",
   "execution_count": 181,
   "id": "4bb3e63c-b5fa-4cc2-8cad-341248fdd5a8",
   "metadata": {},
   "outputs": [
    {
     "data": {
      "text/plain": [
       "array([[ 1,  2],\n",
       "       [ 5,  6],\n",
       "       [ 9, 10],\n",
       "       [13, 14],\n",
       "       [17, 18],\n",
       "       [21, 22]])"
      ]
     },
     "execution_count": 181,
     "metadata": {},
     "output_type": "execute_result"
    }
   ],
   "source": [
    "# 5) slicing multiple continuos columns - array[:,col_start_index:col_end_index(excluding)]\n",
    "arr[:,1:3]"
   ]
  },
  {
   "cell_type": "code",
   "execution_count": 188,
   "id": "5fe54f2f-c578-4e25-a78a-856df2f6e5a3",
   "metadata": {},
   "outputs": [
    {
     "data": {
      "text/plain": [
       "array([[ 1,  3],\n",
       "       [ 5,  7],\n",
       "       [ 9, 11],\n",
       "       [13, 15],\n",
       "       [17, 19],\n",
       "       [21, 23]])"
      ]
     },
     "execution_count": 188,
     "metadata": {},
     "output_type": "execute_result"
    }
   ],
   "source": [
    "# 6) Fancy indexing\n",
    "# 6.1) to index discrete rows - array[[row1_index,...row_n_index]]\n",
    "arr[[1,3]]"
   ]
  },
  {
   "cell_type": "code",
   "execution_count": 189,
   "id": "4fd17cad-a98b-4d8f-8df4-7c98e9197b89",
   "metadata": {},
   "outputs": [
    {
     "data": {
      "text/plain": [
       "array([[ 1,  3],\n",
       "       [ 5,  7],\n",
       "       [ 9, 11],\n",
       "       [13, 15],\n",
       "       [17, 19],\n",
       "       [21, 23]])"
      ]
     },
     "execution_count": 189,
     "metadata": {},
     "output_type": "execute_result"
    }
   ],
   "source": [
    "# 6.2) to index discrete columns - array[:,[row1_index,...row_n_index]]\n",
    "arr[:,[1,3]]"
   ]
  },
  {
   "cell_type": "markdown",
   "id": "b744b0b2-3636-41ac-8176-45ff2a9f0ac9",
   "metadata": {},
   "source": [
    "##### 7) Boolean Indexing(Conditional Indexing )\n"
   ]
  },
  {
   "cell_type": "code",
   "execution_count": 191,
   "id": "86c5b9ad-045f-4908-bf72-f769204c31f2",
   "metadata": {},
   "outputs": [
    {
     "data": {
      "text/plain": [
       "array([[66, 38, 51, 18],\n",
       "       [53, 77, 77, 18],\n",
       "       [12, 39, 91, 56],\n",
       "       [40, 30, 31, 43],\n",
       "       [15, 17, 85, 58]])"
      ]
     },
     "execution_count": 191,
     "metadata": {},
     "output_type": "execute_result"
    }
   ],
   "source": [
    "arr = np.random.randint(low =1,high = 100,size = 20).reshape(5,4)\n",
    "arr"
   ]
  },
  {
   "cell_type": "code",
   "execution_count": 193,
   "id": "435d3050-2ca7-4343-bf03-55930940fb5f",
   "metadata": {},
   "outputs": [
    {
     "data": {
      "text/plain": [
       "array([66, 51, 53, 77, 77, 91, 56, 85, 58])"
      ]
     },
     "execution_count": 193,
     "metadata": {},
     "output_type": "execute_result"
    }
   ],
   "source": [
    "# Indexes the elements satisfying condition a>50\n",
    "arr[arr>50]"
   ]
  },
  {
   "cell_type": "code",
   "execution_count": 197,
   "id": "63afd86b-8c44-41cd-a5f5-8dcc3bcc5f38",
   "metadata": {},
   "outputs": [
    {
     "data": {
      "text/plain": [
       "array([[100,  38,  51,  18],\n",
       "       [ 53,  77,  77,  18],\n",
       "       [ 12,  39,  91, 100],\n",
       "       [ 40,  30,  31,  43],\n",
       "       [ 15,  17,  85, 100]])"
      ]
     },
     "execution_count": 197,
     "metadata": {},
     "output_type": "execute_result"
    }
   ],
   "source": [
    "# Boolean indexing is scalable means we can number of other operations\n",
    "# example for those elements with value>50 and even number ,set value to 100\n",
    "arr[(arr>50) & (arr%2 ==0)]=100\n",
    "arr"
   ]
  },
  {
   "cell_type": "code",
   "execution_count": 198,
   "id": "221c9cd8-e4ab-4105-a8ec-d85c909685b9",
   "metadata": {},
   "outputs": [
    {
     "name": "stdout",
     "output_type": "stream",
     "text": [
      "[100  38  51  18]\n",
      "[53 77 77 18]\n",
      "[ 12  39  91 100]\n",
      "[40 30 31 43]\n",
      "[ 15  17  85 100]\n"
     ]
    }
   ],
   "source": [
    "# Iterating numpy array  row by row\n",
    "for i in arr:\n",
    "    print(i)"
   ]
  },
  {
   "cell_type": "code",
   "execution_count": 200,
   "id": "cb9447c8-00bb-41ae-9e5d-974f9d2e3fec",
   "metadata": {},
   "outputs": [
    {
     "name": "stdout",
     "output_type": "stream",
     "text": [
      "100\n",
      "38\n",
      "51\n",
      "18\n",
      "53\n",
      "77\n",
      "77\n",
      "18\n",
      "12\n",
      "39\n",
      "91\n",
      "100\n",
      "40\n",
      "30\n",
      "31\n",
      "43\n",
      "15\n",
      "17\n",
      "85\n",
      "100\n"
     ]
    }
   ],
   "source": [
    "# Iterating element one by one\n",
    "for i in np.nditer(arr):\n",
    "    print(i)"
   ]
  },
  {
   "cell_type": "code",
   "execution_count": null,
   "id": "cc6c539c-a31b-42b4-b2b9-5b3fc9b6db0d",
   "metadata": {},
   "outputs": [],
   "source": []
  },
  {
   "cell_type": "markdown",
   "id": "8a6edbff-4c84-4ef9-9bbd-48bce05c690c",
   "metadata": {},
   "source": [
    "## Reshaping numpy arrays "
   ]
  },
  {
   "cell_type": "code",
   "execution_count": 202,
   "id": "8659b474-b5f4-4df5-b95e-14d0e38ce9d6",
   "metadata": {},
   "outputs": [
    {
     "data": {
      "text/plain": [
       "array([[ 0,  1,  2,  3],\n",
       "       [ 4,  5,  6,  7],\n",
       "       [ 8,  9, 10, 11]])"
      ]
     },
     "execution_count": 202,
     "metadata": {},
     "output_type": "execute_result"
    }
   ],
   "source": [
    "# 1) reshape() function - reshape with possible factors(already used above multiple times)\n",
    "arr1 = np.arange(12)\n",
    "arr1\n",
    "arr1.reshape(3,4)"
   ]
  },
  {
   "cell_type": "code",
   "execution_count": 205,
   "id": "f6f72b28-e031-4728-ae27-cd8972f114e1",
   "metadata": {},
   "outputs": [
    {
     "data": {
      "text/plain": [
       "array([12, 13, 14, 15, 16, 17, 18, 19, 20, 21, 22, 23])"
      ]
     },
     "execution_count": 205,
     "metadata": {},
     "output_type": "execute_result"
    }
   ],
   "source": [
    "# 2) ravel() function - reshapes higher dimensional array to 1-d array\n",
    "arr2 = np.arange(12,24).reshape(3,4)\n",
    "arr2.ravel()"
   ]
  },
  {
   "cell_type": "code",
   "execution_count": 206,
   "id": "b51837a6-c5cb-42ad-b86d-9867fa8f7606",
   "metadata": {},
   "outputs": [
    {
     "data": {
      "text/plain": [
       "array([[12, 16, 20],\n",
       "       [13, 17, 21],\n",
       "       [14, 18, 22],\n",
       "       [15, 19, 23]])"
      ]
     },
     "execution_count": 206,
     "metadata": {},
     "output_type": "execute_result"
    }
   ],
   "source": [
    "# 3) transpose function - interchanges row and columns\n",
    "arr2.transpose()"
   ]
  },
  {
   "cell_type": "code",
   "execution_count": 208,
   "id": "8fbe33c2-fc2b-496d-a491-0a476d4e36f5",
   "metadata": {},
   "outputs": [
    {
     "data": {
      "text/plain": [
       "array([0, 1, 2, 3, 4, 5, 6, 7])"
      ]
     },
     "execution_count": 208,
     "metadata": {},
     "output_type": "execute_result"
    }
   ],
   "source": [
    "# 4) hstack()- horizontal stacking(adds second array after first horizontally)\n",
    "arr1 = np.arange(4)\n",
    "arr2 = np.arange(4,8)\n",
    "np.hstack((arr1,arr2))"
   ]
  },
  {
   "cell_type": "code",
   "execution_count": 210,
   "id": "38e9d3ee-db7d-4b54-9da7-8c3b8035cae9",
   "metadata": {},
   "outputs": [
    {
     "data": {
      "text/plain": [
       "array([[0, 1, 2, 3],\n",
       "       [4, 5, 6, 7]])"
      ]
     },
     "execution_count": 210,
     "metadata": {},
     "output_type": "execute_result"
    }
   ],
   "source": [
    "# 5) vstack()- vertical stacking(adds second array after first vertically)\n",
    "\n",
    "np.vstack((arr1,arr2))"
   ]
  },
  {
   "cell_type": "code",
   "execution_count": 214,
   "id": "14c441a3-95f6-45d1-b0a8-e20dd9abb47e",
   "metadata": {},
   "outputs": [
    {
     "data": {
      "text/plain": [
       "[array([[0],\n",
       "        [3],\n",
       "        [6],\n",
       "        [9]]),\n",
       " array([[ 1],\n",
       "        [ 4],\n",
       "        [ 7],\n",
       "        [10]]),\n",
       " array([[ 2],\n",
       "        [ 5],\n",
       "        [ 8],\n",
       "        [11]])]"
      ]
     },
     "execution_count": 214,
     "metadata": {},
     "output_type": "execute_result"
    }
   ],
   "source": [
    "# 6) hsplit() - horizontal split(splits numpy array to equal no. of n possible columns)\n",
    "arr = np.arange(12).reshape(4,3)\n",
    "np.hsplit(arr,3)\n"
   ]
  },
  {
   "cell_type": "code",
   "execution_count": 218,
   "id": "cbe22dc3-21e0-4eb3-ae47-af0c27c1bb54",
   "metadata": {},
   "outputs": [
    {
     "data": {
      "text/plain": [
       "[array([[0, 1, 2]]),\n",
       " array([[3, 4, 5]]),\n",
       " array([[6, 7, 8]]),\n",
       " array([[ 9, 10, 11]])]"
      ]
     },
     "execution_count": 218,
     "metadata": {},
     "output_type": "execute_result"
    }
   ],
   "source": [
    "np.vsplit(arr,2)\n",
    "np.vsplit(arr,4)"
   ]
  },
  {
   "cell_type": "code",
   "execution_count": null,
   "id": "35ba8cdb-5bab-43e0-948d-78dff85770dc",
   "metadata": {},
   "outputs": [],
   "source": []
  },
  {
   "cell_type": "markdown",
   "id": "1c5b6611-2c69-474b-9861-f5fbb04f3749",
   "metadata": {},
   "source": [
    "## Plotting graph from numpy arrays"
   ]
  },
  {
   "cell_type": "code",
   "execution_count": 223,
   "id": "198da45f-a8f8-4773-8783-5f7832acd471",
   "metadata": {},
   "outputs": [],
   "source": [
    "# import required libraries\n",
    "import numpy as np\n",
    "import matplotlib.pyplot as plt"
   ]
  },
  {
   "cell_type": "code",
   "execution_count": 224,
   "id": "cc3f8a23-6b3d-4cc6-aff7-1a995ac65e34",
   "metadata": {},
   "outputs": [
    {
     "data": {
      "text/plain": [
       "array([-10.        ,  -9.59183673,  -9.18367347,  -8.7755102 ,\n",
       "        -8.36734694,  -7.95918367,  -7.55102041,  -7.14285714,\n",
       "        -6.73469388,  -6.32653061,  -5.91836735,  -5.51020408,\n",
       "        -5.10204082,  -4.69387755,  -4.28571429,  -3.87755102,\n",
       "        -3.46938776,  -3.06122449,  -2.65306122,  -2.24489796,\n",
       "        -1.83673469,  -1.42857143,  -1.02040816,  -0.6122449 ,\n",
       "        -0.20408163,   0.20408163,   0.6122449 ,   1.02040816,\n",
       "         1.42857143,   1.83673469,   2.24489796,   2.65306122,\n",
       "         3.06122449,   3.46938776,   3.87755102,   4.28571429,\n",
       "         4.69387755,   5.10204082,   5.51020408,   5.91836735,\n",
       "         6.32653061,   6.73469388,   7.14285714,   7.55102041,\n",
       "         7.95918367,   8.36734694,   8.7755102 ,   9.18367347,\n",
       "         9.59183673,  10.        ])"
      ]
     },
     "execution_count": 224,
     "metadata": {},
     "output_type": "execute_result"
    }
   ],
   "source": [
    "x = np.linspace(-10,10,50)\n",
    "x"
   ]
  },
  {
   "cell_type": "code",
   "execution_count": 225,
   "id": "f74292a0-2855-4084-ba13-df9101ca3d3e",
   "metadata": {},
   "outputs": [
    {
     "data": {
      "text/plain": [
       "array([-10.        ,  -9.59183673,  -9.18367347,  -8.7755102 ,\n",
       "        -8.36734694,  -7.95918367,  -7.55102041,  -7.14285714,\n",
       "        -6.73469388,  -6.32653061,  -5.91836735,  -5.51020408,\n",
       "        -5.10204082,  -4.69387755,  -4.28571429,  -3.87755102,\n",
       "        -3.46938776,  -3.06122449,  -2.65306122,  -2.24489796,\n",
       "        -1.83673469,  -1.42857143,  -1.02040816,  -0.6122449 ,\n",
       "        -0.20408163,   0.20408163,   0.6122449 ,   1.02040816,\n",
       "         1.42857143,   1.83673469,   2.24489796,   2.65306122,\n",
       "         3.06122449,   3.46938776,   3.87755102,   4.28571429,\n",
       "         4.69387755,   5.10204082,   5.51020408,   5.91836735,\n",
       "         6.32653061,   6.73469388,   7.14285714,   7.55102041,\n",
       "         7.95918367,   8.36734694,   8.7755102 ,   9.18367347,\n",
       "         9.59183673,  10.        ])"
      ]
     },
     "execution_count": 225,
     "metadata": {},
     "output_type": "execute_result"
    }
   ],
   "source": [
    "y = np.sin(x)\n",
    "x"
   ]
  },
  {
   "cell_type": "code",
   "execution_count": 226,
   "id": "0ccbb899-d76c-4eff-8e6a-234611892d91",
   "metadata": {},
   "outputs": [
    {
     "data": {
      "text/plain": [
       "[<matplotlib.lines.Line2D at 0x1d4c7505c10>]"
      ]
     },
     "execution_count": 226,
     "metadata": {},
     "output_type": "execute_result"
    },
    {
     "data": {
      "image/png": "[encoded data removed]",
      "text/plain": [
       "<Figure size 640x480 with 1 Axes>"
      ]
     },
     "metadata": {},
     "output_type": "display_data"
    }
   ],
   "source": [
    "plt.plot(x,y)"
   ]
  },
  {
   "cell_type": "code",
   "execution_count": null,
   "id": "eeeaa457-4140-42a1-b347-542c2fb0adc7",
   "metadata": {},
   "outputs": [],
   "source": []
  },
  {
   "cell_type": "markdown",
   "id": "806dbef0-45bf-4366-92a3-0c880d46ede9",
   "metadata": {},
   "source": [
    "## Broadcasting\n",
    "##### Broadcasting is NumPy's ability to “stretch” or “replicate” smaller arrays to match the dimensions of larger ones during arithmetic operations. This eliminates the need to manually reshape arrays or write cumbersome loops, significantly streamlining your code\n",
    "\n",
    "![Broadcasting](02.05-broadcasting.png)\n"
   ]
  },
  {
   "cell_type": "code",
   "execution_count": 231,
   "id": "681dfa1f-36c8-4d72-a1ac-ebdf5d7a35d4",
   "metadata": {},
   "outputs": [
    {
     "data": {
      "text/plain": [
       "array([[ 0,  2,  4,  6],\n",
       "       [ 4,  6,  8, 10],\n",
       "       [ 8, 10, 12, 14]])"
      ]
     },
     "execution_count": 231,
     "metadata": {},
     "output_type": "execute_result"
    }
   ],
   "source": [
    "a = np.arange(4).reshape(1,4)\n",
    "b = np.arange(12).reshape(3,4)\n",
    "a+b"
   ]
  },
  {
   "cell_type": "markdown",
   "id": "cb261659-27c3-4dd5-be61-775646bf0bb3",
   "metadata": {},
   "source": [
    "## Cases of numpy array broadcasting \n",
    "![Numpy Broadcasting rules](Broadcasting_cases.png)"
   ]
  },
  {
   "cell_type": "code",
   "execution_count": 235,
   "id": "16cc6ada-50b1-449d-b48d-5785149d39cd",
   "metadata": {},
   "outputs": [
    {
     "data": {
      "text/plain": [
       "array([[12, 14, 16],\n",
       "       [18, 20, 22],\n",
       "       [24, 26, 28],\n",
       "       [30, 32, 34]])"
      ]
     },
     "execution_count": 235,
     "metadata": {},
     "output_type": "execute_result"
    }
   ],
   "source": [
    "# Case 1\n",
    "a = np.arange(12).reshape(4,3)\n",
    "b = np.arange(12,24).reshape(4,3)\n",
    "a+b"
   ]
  },
  {
   "cell_type": "code",
   "execution_count": 237,
   "id": "eef3c201-3214-455a-8c38-10da7c81efe2",
   "metadata": {},
   "outputs": [
    {
     "data": {
      "text/plain": [
       "array([[ 0,  1,  2],\n",
       "       [ 4,  5,  6],\n",
       "       [ 8,  9, 10],\n",
       "       [12, 13, 14]])"
      ]
     },
     "execution_count": 237,
     "metadata": {},
     "output_type": "execute_result"
    }
   ],
   "source": [
    "# Case 2\n",
    "a = np.arange(4).reshape(4,1)\n",
    "b = np.arange(12).reshape(4,3)\n",
    "a+b"
   ]
  },
  {
   "cell_type": "code",
   "execution_count": 240,
   "id": "9fe1b904-7c50-4428-93ab-f7e1c6b57e94",
   "metadata": {},
   "outputs": [
    {
     "data": {
      "text/plain": [
       "array([[ 0,  2,  4,  6],\n",
       "       [ 4,  6,  8, 10],\n",
       "       [ 8, 10, 12, 14]])"
      ]
     },
     "execution_count": 240,
     "metadata": {},
     "output_type": "execute_result"
    }
   ],
   "source": [
    "# Case 3\n",
    "a = np.arange(4).reshape(1,4)\n",
    "b = np.arange(12).reshape(3,4)\n",
    "a+b"
   ]
  },
  {
   "cell_type": "code",
   "execution_count": 241,
   "id": "d3289214-5a2b-48a1-8170-163f749e064f",
   "metadata": {},
   "outputs": [
    {
     "data": {
      "text/plain": [
       "array([[ 0,  2,  4,  6],\n",
       "       [ 4,  6,  8, 10],\n",
       "       [ 8, 10, 12, 14]])"
      ]
     },
     "execution_count": 241,
     "metadata": {},
     "output_type": "execute_result"
    }
   ],
   "source": [
    "# Case 4\n",
    "a = np.arange(12).reshape(3,4)\n",
    "b = np.arange(4).reshape(1,4)\n",
    "a+b"
   ]
  },
  {
   "cell_type": "code",
   "execution_count": 243,
   "id": "6438187b-c591-47aa-9581-3ad6d1b8cbc2",
   "metadata": {},
   "outputs": [
    {
     "data": {
      "text/plain": [
       "array([[ 0,  1,  2],\n",
       "       [ 4,  5,  6],\n",
       "       [ 8,  9, 10],\n",
       "       [12, 13, 14]])"
      ]
     },
     "execution_count": 243,
     "metadata": {},
     "output_type": "execute_result"
    }
   ],
   "source": [
    "# Case 5\n",
    "a = np.arange(12).reshape(4,3)\n",
    "b = np.arange(4).reshape(4,1)\n",
    "a+b"
   ]
  },
  {
   "cell_type": "code",
   "execution_count": 244,
   "id": "a2107a2a-a03c-4387-8aec-6d660305445f",
   "metadata": {},
   "outputs": [
    {
     "data": {
      "text/plain": [
       "array([[ 0,  1,  2],\n",
       "       [ 3,  4,  5],\n",
       "       [ 6,  7,  8],\n",
       "       [ 9, 10, 11]])"
      ]
     },
     "execution_count": 244,
     "metadata": {},
     "output_type": "execute_result"
    }
   ],
   "source": [
    "# Case 6\n",
    "a = np.arange(1).reshape(1,1)\n",
    "b = np.arange(12).reshape(4,3)\n",
    "a+b"
   ]
  },
  {
   "cell_type": "code",
   "execution_count": 245,
   "id": "e0cbe66b-1324-4588-905a-84e72ba102ae",
   "metadata": {},
   "outputs": [
    {
     "data": {
      "text/plain": [
       "array([[ 0,  1,  2],\n",
       "       [ 3,  4,  5],\n",
       "       [ 6,  7,  8],\n",
       "       [ 9, 10, 11]])"
      ]
     },
     "execution_count": 245,
     "metadata": {},
     "output_type": "execute_result"
    }
   ],
   "source": [
    "# Case 7\n",
    "a= np.arange(12).reshape(4,3)\n",
    "b = np.arange(1).reshape(1,1)\n",
    "a+b"
   ]
  },
  {
   "cell_type": "code",
   "execution_count": 246,
   "id": "0e71dd44-8db5-495c-a3d1-b078e5a32252",
   "metadata": {},
   "outputs": [
    {
     "ename": "ValueError",
     "evalue": "operands could not be broadcast together with shapes (3,4) (4,3) ",
     "output_type": "error",
     "traceback": [
      "\u001b[1;31m---------------------------------------------------------------------------\u001b[0m",
      "\u001b[1;31mValueError\u001b[0m                                Traceback (most recent call last)",
      "Cell \u001b[1;32mIn[246], line 4\u001b[0m\n\u001b[0;32m      2\u001b[0m a \u001b[38;5;241m=\u001b[39m np\u001b[38;5;241m.\u001b[39marange(\u001b[38;5;241m12\u001b[39m)\u001b[38;5;241m.\u001b[39mreshape(\u001b[38;5;241m3\u001b[39m,\u001b[38;5;241m4\u001b[39m)\n\u001b[0;32m      3\u001b[0m b \u001b[38;5;241m=\u001b[39m np\u001b[38;5;241m.\u001b[39marange(\u001b[38;5;241m12\u001b[39m)\u001b[38;5;241m.\u001b[39mreshape(\u001b[38;5;241m4\u001b[39m,\u001b[38;5;241m3\u001b[39m)\n\u001b[1;32m----> 4\u001b[0m a\u001b[38;5;241m+\u001b[39mb\n",
      "\u001b[1;31mValueError\u001b[0m: operands could not be broadcast together with shapes (3,4) (4,3) "
     ]
    }
   ],
   "source": [
    "# case 8\n",
    "a = np.arange(12).reshape(3,4)\n",
    "b = np.arange(12).reshape(4,3)\n",
    "a+b"
   ]
  },
  {
   "cell_type": "code",
   "execution_count": 247,
   "id": "5420648b-8f58-4213-87df-49f6b0808eb0",
   "metadata": {},
   "outputs": [
    {
     "ename": "ValueError",
     "evalue": "operands could not be broadcast together with shapes (3,4) (2,2) ",
     "output_type": "error",
     "traceback": [
      "\u001b[1;31m---------------------------------------------------------------------------\u001b[0m",
      "\u001b[1;31mValueError\u001b[0m                                Traceback (most recent call last)",
      "Cell \u001b[1;32mIn[247], line 4\u001b[0m\n\u001b[0;32m      2\u001b[0m a \u001b[38;5;241m=\u001b[39m np\u001b[38;5;241m.\u001b[39marange(\u001b[38;5;241m12\u001b[39m)\u001b[38;5;241m.\u001b[39mreshape(\u001b[38;5;241m3\u001b[39m,\u001b[38;5;241m4\u001b[39m)\n\u001b[0;32m      3\u001b[0m b \u001b[38;5;241m=\u001b[39m np\u001b[38;5;241m.\u001b[39marange(\u001b[38;5;241m4\u001b[39m)\u001b[38;5;241m.\u001b[39mreshape(\u001b[38;5;241m2\u001b[39m,\u001b[38;5;241m2\u001b[39m)\n\u001b[1;32m----> 4\u001b[0m a\u001b[38;5;241m+\u001b[39mb\n",
      "\u001b[1;31mValueError\u001b[0m: operands could not be broadcast together with shapes (3,4) (2,2) "
     ]
    }
   ],
   "source": [
    "# Case 9\n",
    "a = np.arange(12).reshape(3,4)\n",
    "b = np.arange(4).reshape(2,2)\n",
    "a+b"
   ]
  },
  {
   "cell_type": "code",
   "execution_count": null,
   "id": "8b6024ee-f011-43d8-ad44-4eeade4a7ac8",
   "metadata": {},
   "outputs": [],
   "source": []
  },
  {
   "cell_type": "markdown",
   "id": "43e12a0c-9ff0-4dd9-8506-12eba58252ba",
   "metadata": {},
   "source": [
    "## Why numpy arrays instead of python lists ?\n",
    "- They are faster.\n",
    "- They are easy to operate\n",
    "- They occupy less storage \n",
    "\n",
    "To prove these points let's take a look at the following examples where we perfrom same operation on python lists and numpy arrays ."
   ]
  },
  {
   "cell_type": "code",
   "execution_count": 250,
   "id": "753695d6-9667-4b60-987d-5b5167ff54a3",
   "metadata": {},
   "outputs": [
    {
     "name": "stdout",
     "output_type": "stream",
     "text": [
      "Time taken to operate on lists(in seconds): 2.188823938369751\n",
      "Time taken to operate on numpy arrays(in seconds): 0.26630473136901855\n"
     ]
    }
   ],
   "source": [
    "# Point 1 and 2\n",
    "import time \n",
    "\n",
    "# Creating two lists\n",
    "x = range(10000000)\n",
    "y = range(10000000)\n",
    "\n",
    "start_time = time.time()  # storing starting time of operation \n",
    "z = [(x+y) for x,y in zip(x,y)] # note that the  code to perform elementwise sum\n",
    "end_time = time.time() # Storing completion time of operation \n",
    "time_taken = end_time - start_time\n",
    "print('Time taken to operate on lists(in seconds):',time_taken)\n",
    "\n",
    "# creating two numpy arrays of same size as lists\n",
    "a = np.arange(1000000)\n",
    "b = np.arange(1000000)\n",
    "\n",
    "start_time2 = time.time()  # storing starting time of operation \n",
    "c = a+b # note the easness of code to perform same elementwise sum on numpy\n",
    "end_time2 = time.time() # Storing completion time of operation \n",
    "time_taken2 = end_time2 - start_time2\n",
    "print('Time taken to operate on numpy arrays(in seconds):',time_taken2)"
   ]
  },
  {
   "cell_type": "code",
   "execution_count": 251,
   "id": "6a292593-bfb4-4f02-8a94-2f2d82b3e40e",
   "metadata": {},
   "outputs": [
    {
     "name": "stdout",
     "output_type": "stream",
     "text": [
      "Storage occupied by list(in bytes): 28000\n",
      "Storage occupied by numpy array of same size(in bytes): 4000\n"
     ]
    }
   ],
   "source": [
    "# point 3 \n",
    "import sys\n",
    "\n",
    "# creating python list and numpy array of same size\n",
    "list1 = range(1000) #creating python list \n",
    "arr1 = np.arange(1000)\n",
    "\n",
    "storage_by_list = sys.getsizeof(50)*len(list1) # total size =  size of one element(50 here which lies in range(1000)*length of list \n",
    "print('Storage occupied by list(in bytes):',storage_by_list)\n",
    "storage_by_numpy_array = arr1.itemsize * arr1.size # total size = size of one array element * size of array\n",
    "print('Storage occupied by numpy array of same size(in bytes):',storage_by_numpy_array)\n"
   ]
  },
  {
   "cell_type": "code",
   "execution_count": null,
   "id": "66d400bd-940f-4ce3-8098-735a76f5351f",
   "metadata": {},
   "outputs": [],
   "source": []
  }
 ],
 "metadata": {
  "kernelspec": {
   "display_name": "Python 3 (ipykernel)",
   "language": "python",
   "name": "python3"
  },
  "language_info": {
   "codemirror_mode": {
    "name": "ipython",
    "version": 3
   },
   "file_extension": ".py",
   "mimetype": "text/x-python",
   "name": "python",
   "nbconvert_exporter": "python",
   "pygments_lexer": "ipython3",
   "version": "3.12.4"
  }
 },
 "nbformat": 4,
 "nbformat_minor": 5
}
